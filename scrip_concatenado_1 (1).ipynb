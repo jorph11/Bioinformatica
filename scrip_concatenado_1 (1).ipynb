{
 "cells": [
  {
   "cell_type": "code",
   "execution_count": 29,
   "metadata": {},
   "outputs": [],
   "source": [
    "from Bio import SeqIO\n",
    "import pandas as pd \n",
    "\n",
    "archivos = ['NADH_dehydrogenase_subunit_2.txt', 'cytochrome_oxidase_subunit_1.txt','cytochrome_c_oxidase_subunit_II.txt']\n",
    "\n",
    "dic_nombre_secuencia = {}\n",
    "\n",
    "for archivo in archivos:\n",
    "    for record in SeqIO.parse(archivo, \"fasta\"):\n",
    "        nombre_cientifico = record.description.split(\"[\")[-1].split(\"]\")[0]\n",
    "        secuencia = str(record.seq)\n",
    "        if nombre_cientifico in dic_nombre_secuencia:\n",
    "            dic_nombre_secuencia[nombre_cientifico].append(secuencia)\n",
    "        else:\n",
    "            dic_nombre_secuencia[nombre_cientifico] = [secuencia]\n",
    "\n",
    "# Concatenar las secuencias para los nombres científicos duplicados\n",
    "for nombre, secuencias in dic_nombre_secuencia.items():\n",
    "    dic_nombre_secuencia[nombre] = ''.join(secuencias)\n",
    "\n",
    "# Guardar las secuencias en un archivo FASTA\n",
    "with open(\"secuencias_concatenadas.fasta_1\", \"w\") as fasta_file:\n",
    "    for nombre, secuencia in dic_nombre_secuencia.items():\n",
    "        fasta_file.write(f\">{nombre}\\n\")\n",
    "        fasta_file.write(f\"{secuencia}\\n\")\n",
    "\n"
   ]
  }
 ],
 "metadata": {
  "kernelspec": {
   "display_name": "Python 3",
   "language": "python",
   "name": "python3"
  },
  "language_info": {
   "codemirror_mode": {
    "name": "ipython",
    "version": 3
   },
   "file_extension": ".py",
   "mimetype": "text/x-python",
   "name": "python",
   "nbconvert_exporter": "python",
   "pygments_lexer": "ipython3",
   "version": "3.11.3"
  },
  "orig_nbformat": 4
 },
 "nbformat": 4,
 "nbformat_minor": 2
}
